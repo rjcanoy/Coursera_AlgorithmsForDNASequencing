{
 "cells": [
  {
   "cell_type": "markdown",
   "metadata": {},
   "source": [
    "We saw how to adapt dynamic programming to find approximate occurrences of a pattern in a text. Recall that:\n",
    "\n",
    "    * Rows of the dynamic programming matrix are labeled with bases from P and columns with bases from T\n",
    "    * Elements in the **first row are set to 0**\n",
    "    * Elements in the first column are set to 0, 1, 2, ..., as for edit distance\n",
    "    * Other elements are set in the same way as elements of a standard edit distance matrix\n",
    "    * The minimal value in the bottom row is the edit distance of the closest match betwee P and T\n",
    "\n",
    "**Instructions:**\n",
    "1. First, download the provided excerpt of human chromosome 1\n",
    "2. Second, parse it using the readGenome function we wrote before.\n",
    "3. Third, adapt the editDistance function we saw in practical (copied below) to answer questions 1 and below. Your function should take arguments p (pattern), t (text) and should return the edit distance of the match between P and T with the fewest edits.\n",
    "\n",
    "\n"
   ]
  },
  {
   "cell_type": "code",
   "execution_count": null,
   "metadata": {},
   "outputs": [],
   "source": [
    "def editDistance(x, y):\n",
    "    # Create distance matrix\n",
    "    D = []\n",
    "    for i in range(len(x)+1):\n",
    "        D.append([0] * (len(y) + 1))\n",
    "    \n",
    "    # Initialize first row and column of matrix\n",
    "    for i in range(len(x)+1):\n",
    "        D[i][0] = i\n",
    "    for i in range(len(y)+1):\n",
    "        D[0][i] = i\n",
    "    \n",
    "    # Fill in the rest of the matrix\n",
    "    for i in range(1, len(x)+1):\n",
    "        for j in range(1, len(y)+1):\n",
    "            distHor = D[i][j-1] + 1\n",
    "            distVer = D[i-1][j] + 1\n",
    "            if x[i-1] == y[j-1]:\n",
    "                distDiag = D[i-1][j-1]\n",
    "            else:\n",
    "                distDiag = D[i-1][j-1] + 1\n",
    "            \n",
    "        D[i][j] = min(distHor, distVer, distDiag)\n",
    "    \n",
    "    # Edit distance is the value in the bottom right corner of the matrix\n",
    "    return D, D[-1][-1]"
   ]
  },
  {
   "cell_type": "markdown",
   "metadata": {},
   "source": [
    "In the \"A new solution to approximate matching\" video, we saw that the best approximate of P=GCGTATGC within T=TATTGGCTATACGGTT had 2 edits. You can use this and other small examples to double-check that your function is working."
   ]
  },
  {
   "cell_type": "code",
   "execution_count": 1,
   "metadata": {},
   "outputs": [],
   "source": [
    "def editDist_modified(x, y):\n",
    "    D = []\n",
    "\n",
    "    for i in range(len(x)+1):\n",
    "        D.append([0] * (len(y) + 1))\n",
    "    \n",
    "    for i in range(len(x) + 1):\n",
    "        D[i][0] = i\n",
    "\n",
    "    for i in range(1, len(x)+1):\n",
    "        for j in range(1, len(y)+1):\n",
    "            distHor = D[i][j-1] + 1\n",
    "            distVer = D[i-1][j] + 1\n",
    "            if x[i-1] == y[j-1]:\n",
    "                distDiag = D[i-1][j-1]\n",
    "            else:\n",
    "                distDiag = D[i-1][j-1] + 1\n",
    "        \n",
    "            D[i][j] = min(distHor, distVer, distDiag)\n",
    "    \n",
    "    return min(D[-1][:])"
   ]
  }
 ],
 "metadata": {
  "kernelspec": {
   "display_name": "Python 3.10.8 64-bit (microsoft store)",
   "language": "python",
   "name": "python3"
  },
  "language_info": {
   "codemirror_mode": {
    "name": "ipython",
    "version": 3
   },
   "file_extension": ".py",
   "mimetype": "text/x-python",
   "name": "python",
   "nbconvert_exporter": "python",
   "pygments_lexer": "ipython3",
   "version": "3.10.8"
  },
  "orig_nbformat": 4,
  "vscode": {
   "interpreter": {
    "hash": "f6762c1bd97e86afed4eb0fbb58dbc422748c44bf43be548b8c8cbe90c06a137"
   }
  }
 },
 "nbformat": 4,
 "nbformat_minor": 2
}
